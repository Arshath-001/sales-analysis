{
 "cells": [
  {
   "cell_type": "code",
   "execution_count": null,
   "id": "2191d67e",
   "metadata": {},
   "outputs": [],
   "source": [
    "import pandas as pd\n",
    "import matplotlib.pyplot as plt\n",
    "\n",
    "df = pd.read_csv(\"sales_data.CSV\")\n",
    "\n",
    "print(\"first 5 rows of the dataset\")\n",
    "display(df.head())\n",
    "print(\"\\n Dataset info:\")\n",
    "display(df.info())\n",
    "print(\"\\n summary statistics:\")\n",
    "display(df.describe())\n",
    "\n",
    "df.dropna(inplace = True)\n",
    "\n",
    "total_sales = df[\"sales\"].sum()\n",
    "print(f\"\\n Total sales: {total_sales}\")\n",
    "\n",
    "avg_sales = df[\"sales\"].mean()\n",
    "print(f\"Average sales per transaction:{avg_sales:.2f}\")\n",
    "\n",
    "top_products = df.groupby(\"product\")[\"sales\"].sum().sort_values(ascending = False).head(5)\n",
    "print(\"top 5 products\")\n",
    "display(top_products)\n",
    "\n",
    "df[\"date\"] = pd.to_datetime(df[\"date\"])\n",
    "sales_by_month = df.groupby(df[\"Date\"].dt.month)[\"sales\"].sum()\n",
    "\n",
    "print(\"\\n Month sales trends:\")\n",
    "display(sales_by_month)\n",
    "\n",
    "plt.figure(figsize=(8,5))\n",
    "top_products.plot(kind = \"bar\",color = \"skyblue\")\n",
    "plt.title(\"monthly Sales Trend\")\n",
    "plt.xlabel(\"month\")\n",
    "plt.ylabel(\"sales\")\n",
    "plt.grid(True)\n",
    "plt.show()\n",
    "\n",
    "df.to_csv(\"sales_analysis_results.csv\",index=False)\n",
    "print(\"\\n Anaysis completed and saved to 'sales_analysis_results.csv \")"
   ]
  }
 ],
 "metadata": {
  "kernelspec": {
   "display_name": "Python 3",
   "language": "python",
   "name": "python3"
  },
  "language_info": {
   "name": "python",
   "version": "3.13.3"
  }
 },
 "nbformat": 4,
 "nbformat_minor": 5
}
